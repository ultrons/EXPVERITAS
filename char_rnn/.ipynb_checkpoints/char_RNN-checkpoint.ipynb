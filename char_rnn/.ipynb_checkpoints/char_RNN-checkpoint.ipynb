{
 "cells": [
  {
   "cell_type": "code",
   "execution_count": 178,
   "metadata": {
    "collapsed": true
   },
   "outputs": [],
   "source": [
    "import tensorflow as tf\n",
    "import numpy as np\n",
    "\n",
    "from collections import namedtuple\n",
    "from tqdm import tqdm\n",
    "import os\n",
    "import time"
   ]
  },
  {
   "cell_type": "code",
   "execution_count": 179,
   "metadata": {
    "collapsed": false
   },
   "outputs": [
    {
     "name": "stdout",
     "output_type": "stream",
     "text": [
      "The dataset has 1115394 characters and 65 unique.\n"
     ]
    }
   ],
   "source": [
    "# Reading the data\n",
    "data = open('sample_input.txt').read()\n",
    "\n",
    "# Vocabulary business\n",
    "\n",
    "# 1. Create a list of unique characters\n",
    "chars = list(set(data))\n",
    "data_size, vocab_size = len(data), len(chars)\n",
    "\n",
    "char_to_ix = {ch:i for i,ch in enumerate(chars) }\n",
    "ix_to_chars = {i:ch for i,ch in enumerate(chars)}\n",
    "\n",
    "x=np.zeros(len(data))\n",
    "for i, c in enumerate(data):\n",
    "    x[i]=char_to_ix[c]\n",
    "\n",
    "data=x\n",
    "\n",
    "print(\"The dataset has %d characters and %d unique.\" %(data_size, vocab_size))"
   ]
  },
  {
   "cell_type": "code",
   "execution_count": 265,
   "metadata": {
    "collapsed": false
   },
   "outputs": [],
   "source": [
    "# Defining hyperparameter tuple and setting hyper parameters\n",
    "hparams = namedtuple('hyper_parameters', \n",
    "                     'hidden_size, seq_length, learning_rate,'\n",
    "                     'batch_size, vocab_size,'\n",
    "                    'num_epochs')\n",
    "\n",
    "\n",
    "hps = hparams(hidden_size=200,\n",
    "              seq_length=5,\n",
    "              learning_rate=1e-3,\n",
    "              batch_size=200,\n",
    "              vocab_size=vocab_size,\n",
    "              num_epochs=10)"
   ]
  },
  {
   "cell_type": "code",
   "execution_count": 270,
   "metadata": {
    "collapsed": false
   },
   "outputs": [],
   "source": [
    "class deepMind(object):\n",
    "    def __init__(self, hps, mode, debug=True):\n",
    "        self.hps=hps\n",
    "        self.mode=mode\n",
    "        self.batch_pointer=0\n",
    "        \n",
    "    def buildGraph(self, variant=\"fixed_length\"):\n",
    "        # Extracting structural specifics from HPS\n",
    "        D = self.hps.vocab_size\n",
    "        H = self.hps.hidden_size\n",
    "        N = self.hps.batch_size\n",
    "        T = self.hps.seq_length\n",
    "               \n",
    "        self.global_step = tf.contrib.framework.get_or_create_global_step()\n",
    "                       \n",
    "        # Network :)\n",
    "        self.X = tf.placeholder(tf.int32, [None,None], \"Inputs\")\n",
    "        self.Y = tf.placeholder(tf.int32, [None,None], \"Expected_Output\")\n",
    "        \n",
    "        embedding = tf.Variable(tf.random_uniform(\n",
    "                [D, input_embedding_size],\n",
    "                -1.0, 1.0), dtype=tf.float32)\n",
    "        #tf.get_variable(\"embedding\", [D,H], \n",
    "        #                            initializer=tf.random_uniform_initializer(minval=-1.0, maxval=1.0))\n",
    "        inputs = tf.nn.embedding_lookup(embedding, self.X)\n",
    "        #inputs = tf.layers.batch_normalization(inputs)\n",
    "        lstm_cell = tf.contrib.rnn.BasicLSTMCell(H)\n",
    "        ouputs, last_states = tf.nn.dynamic_rnn(\n",
    "                                         cell=lstm_cell,\n",
    "                                         dtype=tf.float32,\n",
    "                                         inputs=inputs)\n",
    "        scores=tf.layers.dense(ouputs, D)\n",
    "        tf.summary.histogram('scores', scores)\n",
    "        \n",
    "        return scores\n",
    "        #tf.contrib.legacy_seq2seq()\n",
    "      \n",
    "        \n",
    "    def trainStep(self, scores):\n",
    "        # Extracting structural specifics from HPS\n",
    "        D = self.hps.vocab_size\n",
    "        H = self.hps.hidden_size\n",
    "        N = self.hps.batch_size\n",
    "        T = self.hps.seq_length\n",
    "        \n",
    "        \n",
    "        \n",
    "        # Define the additional part of the network Used for training\n",
    "        # Loss and Optimizer\n",
    "        loss = tf.nn.softmax_cross_entropy_with_logits(\n",
    "            labels=tf.one_hot(tf.reshape(self.Y, [-1,1]),self.hps.vocab_size),\n",
    "            #logits=tf.reshape(scores,[-1,self.hps.vocab_size]),\n",
    "            logits=scores,\n",
    "            name=\"softMaxCrossEntropy\"\n",
    "        )\n",
    "        loss = tf.reduce_sum(loss)\n",
    "        #print(loss.get_shape().as_list())\n",
    "        tf.summary.scalar('loss_', loss)\n",
    "        \n",
    "        \n",
    "        predictions = tf.cast(tf.argmax(scores, axis=-1, name=\"predictions\"), tf.int32)\n",
    "        accuracy=tf.reduce_mean(tf.cast(tf.equal(predictions, self.Y), tf.float32))\n",
    "                                         \n",
    "        solver = tf.train.AdamOptimizer(hps.learning_rate)\n",
    "        tvars  = tf.trainable_variables()\n",
    "        gs, _  = tf.clip_by_global_norm(tf.gradients(loss, tvars), 3.0)\n",
    "        #tf.summary.histogram('gradients', gs)\n",
    "        train_step = solver.apply_gradients(zip(gs, tvars), global_step=self.global_step)\n",
    "        summary = tf.summary.merge_all()\n",
    "        return train_step, accuracy, summary\n",
    "    \n",
    "    def train(self,sess, data,train_ops, writer=None):\n",
    "        num_batches=data.shape[0]//self.hps.batch_size//self.hps.seq_length\n",
    "        for e in tqdm(list(range(hps.num_epochs)), desc='epoch'):\n",
    "            total_correct=0\n",
    "            for i in range(num_batches):\n",
    "                \n",
    "                x,y = self.getNextBatch(data)\n",
    "                feed_dict={self.X: x, self.Y:y}\n",
    "                _, acc, summary = sess.run(train_ops, feed_dict=feed_dict)\n",
    "                total_correct+=acc*self.hps.batch_size*self.hps.seq_length\n",
    "                if writer is not None:\n",
    "                    writer.add_summary(summary)\n",
    "            acc=total_correct/(self.hps.batch_size*self.hps.seq_length)\n",
    "                \n",
    "            print(\"Training Accuracy in current epoch: %f\" %acc)\n",
    "        \n",
    "    \n",
    "    def sample(self, sess, scores, seed=\"i\", length=1000, beam_width=5):\n",
    "        predictions = tf.cast(tf.argmax(scores, axis=-1, name=\"predictions\"), tf.int32)\n",
    "        x,y = (char_to_ix[seed])*np.ones((1,1)), np.zeros((1,1))\n",
    "        feed_dict={self.X:x, self.Y:y}\n",
    "        pred_str=[]\n",
    "        for i in range(length):\n",
    "            p=sess.run(predictions, feed_dict=feed_dict)\n",
    "            feed_dict[self.X]=np.asscalar(p)*np.ones((1,1))\n",
    "            pred_str.append(ix_to_chars[np.asscalar(p)])\n",
    "            #print(np.asscalar(p))\n",
    "        \n",
    "        print(''.join(pred_str))\n",
    "            \n",
    "            \n",
    "            \n",
    "        \n",
    "        \n",
    "    \n",
    "    # data is expected to be numpy array of indices\n",
    "    def getNextBatch(self, data):\n",
    "        start=self.batch_pointer\n",
    "        end=start+self.hps.batch_size*self.hps.seq_length\n",
    "        self.batch_pointer=end\n",
    "        x=np.take(data, range(start,end), mode='wrap').reshape(hps.batch_size,-1)\n",
    "        y=np.copy(x)\n",
    "        y[:-1]=x[1:]\n",
    "        y[-1]=x[0]\n",
    "        return x,y\n",
    "        \n",
    "                                \n",
    "        \n",
    "\n",
    "\n"
   ]
  },
  {
   "cell_type": "code",
   "execution_count": 267,
   "metadata": {
    "collapsed": false
   },
   "outputs": [
    {
     "name": "stderr",
     "output_type": "stream",
     "text": [
      "\n",
      "epoch:   0%|          | 0/10 [00:00<?, ?it/s]\u001b[A\n",
      "epoch:  10%|█         | 1/10 [00:04<00:41,  4.64s/it]"
     ]
    },
    {
     "name": "stdout",
     "output_type": "stream",
     "text": [
      "Training Accuracy in current epoch: 187.192000\n",
      "Training Accuracy in current epoch: 196.104000"
     ]
    },
    {
     "name": "stderr",
     "output_type": "stream",
     "text": [
      "\u001b[A\n",
      "\r",
      "epoch:  20%|██        | 2/10 [00:09<00:37,  4.65s/it]"
     ]
    },
    {
     "name": "stdout",
     "output_type": "stream",
     "text": [
      "\n",
      "Training Accuracy in current epoch: 200.129001"
     ]
    },
    {
     "name": "stderr",
     "output_type": "stream",
     "text": [
      "\r",
      "epoch:  30%|███       | 3/10 [00:14<00:32,  4.69s/it]"
     ]
    },
    {
     "name": "stdout",
     "output_type": "stream",
     "text": [
      "\n",
      "Training Accuracy in current epoch: 202.207001"
     ]
    },
    {
     "name": "stderr",
     "output_type": "stream",
     "text": [
      "\r",
      "epoch:  40%|████      | 4/10 [00:18<00:28,  4.70s/it]"
     ]
    },
    {
     "name": "stdout",
     "output_type": "stream",
     "text": [
      "\n",
      "Training Accuracy in current epoch: 204.378000"
     ]
    },
    {
     "name": "stderr",
     "output_type": "stream",
     "text": [
      "\r",
      "epoch:  50%|█████     | 5/10 [00:23<00:23,  4.68s/it]"
     ]
    },
    {
     "name": "stdout",
     "output_type": "stream",
     "text": [
      "\n",
      "Training Accuracy in current epoch: 205.229001"
     ]
    },
    {
     "name": "stderr",
     "output_type": "stream",
     "text": [
      "\r",
      "epoch:  60%|██████    | 6/10 [00:28<00:18,  4.68s/it]"
     ]
    },
    {
     "name": "stdout",
     "output_type": "stream",
     "text": [
      "\n",
      "Training Accuracy in current epoch: 206.393000"
     ]
    },
    {
     "name": "stderr",
     "output_type": "stream",
     "text": [
      "\r",
      "epoch:  70%|███████   | 7/10 [00:32<00:14,  4.68s/it]"
     ]
    },
    {
     "name": "stdout",
     "output_type": "stream",
     "text": [
      "\n",
      "Training Accuracy in current epoch: 206.887001"
     ]
    },
    {
     "name": "stderr",
     "output_type": "stream",
     "text": [
      "\r",
      "epoch:  80%|████████  | 8/10 [00:37<00:09,  4.67s/it]"
     ]
    },
    {
     "name": "stdout",
     "output_type": "stream",
     "text": [
      "\n",
      "Training Accuracy in current epoch: 207.444000"
     ]
    },
    {
     "name": "stderr",
     "output_type": "stream",
     "text": [
      "\r",
      "epoch:  90%|█████████ | 9/10 [00:42<00:04,  4.64s/it]"
     ]
    },
    {
     "name": "stdout",
     "output_type": "stream",
     "text": [
      "\n",
      "Training Accuracy in current epoch: 207.980001"
     ]
    },
    {
     "name": "stderr",
     "output_type": "stream",
     "text": [
      "\r",
      "epoch: 100%|██████████| 10/10 [00:46<00:00,  4.63s/it]"
     ]
    },
    {
     "name": "stdout",
     "output_type": "stream",
     "text": [
      "\n"
     ]
    },
    {
     "name": "stderr",
     "output_type": "stream",
     "text": [
      "\n"
     ]
    }
   ],
   "source": [
    "model=deepMind (hps,'train')\n",
    "\n",
    "tf.reset_default_graph()\n",
    "scores=model.buildGraph()\n",
    "train_ops=model.trainStep(scores)\n",
    "\n",
    "config = tf.ConfigProto(allow_soft_placement=True)\n",
    "config.gpu_options.allow_growth = True\n",
    "sess=tf.Session(config=config)\n",
    "summaries=tf.summary.merge_all()\n",
    "writer = tf.summary.FileWriter(\n",
    "            os.path.join('./tf_logs', time.strftime(\"%Y-%m-%d-%H-%M-%S\")))\n",
    "writer.add_graph(sess.graph)\n",
    "\n",
    "with tf.device(\"/gpu:0\"): #\"/cpu:0\" or \"/gpu:0\" \n",
    "    \n",
    "    sess.run(tf.global_variables_initializer())\n",
    "    model.train(sess, data, train_ops,writer)\n",
    "    \n",
    "    \n",
    "    #model.sample(sess, scores)  "
   ]
  },
  {
   "cell_type": "code",
   "execution_count": 271,
   "metadata": {
    "collapsed": false
   },
   "outputs": [
    {
     "name": "stdout",
     "output_type": "stream",
     "text": [
      "Oe                                                                                                                                                                                                                                                                                                                                                                                                                                                                                                                                                                                                                                                                                                                                                                                                                                                                                                                                                                                                                                      \n"
     ]
    }
   ],
   "source": [
    "model.sample(sess, scores)  "
   ]
  },
  {
   "cell_type": "code",
   "execution_count": null,
   "metadata": {
    "collapsed": true
   },
   "outputs": [],
   "source": []
  }
 ],
 "metadata": {
  "kernelspec": {
   "display_name": "Python 3",
   "language": "python",
   "name": "python3"
  },
  "language_info": {
   "codemirror_mode": {
    "name": "ipython",
    "version": 3
   },
   "file_extension": ".py",
   "mimetype": "text/x-python",
   "name": "python",
   "nbconvert_exporter": "python",
   "pygments_lexer": "ipython3",
   "version": "3.5.2"
  }
 },
 "nbformat": 4,
 "nbformat_minor": 1
}
