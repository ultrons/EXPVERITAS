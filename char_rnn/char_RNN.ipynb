{
 "cells": [
  {
   "cell_type": "code",
   "execution_count": 141,
   "metadata": {
    "collapsed": true
   },
   "outputs": [],
   "source": [
    "import tensorflow as tf\n",
    "import numpy as np\n",
    "\n",
    "from collections import namedtuple\n",
    "from tqdm import tqdm\n",
    "import os\n",
    "import time"
   ]
  },
  {
   "cell_type": "code",
   "execution_count": 161,
   "metadata": {
    "collapsed": false
   },
   "outputs": [
    {
     "name": "stdout",
     "output_type": "stream",
     "text": [
      "The dataset has 3729 characters and 61 unique.\n"
     ]
    }
   ],
   "source": [
    "# Reading the data\n",
    "data = open('sample_input.txt').read()\n",
    "\n",
    "# Vocabulary business\n",
    "\n",
    "# 1. Create a list of unique characters\n",
    "chars = list(set(data))\n",
    "data_size, vocab_size = len(data), len(chars)\n",
    "\n",
    "char_to_ix = {ch:i for i,ch in enumerate(chars) }\n",
    "ix_to_chars = {i:ch for i,ch in enumerate(chars)}\n",
    "\n",
    "x=np.zeros(len(data))\n",
    "for i, c in enumerate(data):\n",
    "    x[i]=char_to_ix[c]\n",
    "\n",
    "data=x\n",
    "\n",
    "print(\"The dataset has %d characters and %d unique.\" %(data_size, vocab_size))"
   ]
  },
  {
   "cell_type": "code",
   "execution_count": 223,
   "metadata": {
    "collapsed": false
   },
   "outputs": [],
   "source": [
    "# Defining hyperparameter tuple and setting hyper parameters\n",
    "hparams = namedtuple('hyper_parameters', \n",
    "                     'hidden_size, seq_length, learning_rate,'\n",
    "                     'batch_size, vocab_size,'\n",
    "                    'num_epochs')\n",
    "\n",
    "\n",
    "hps = hparams(hidden_size=200,\n",
    "              seq_length=5,\n",
    "              learning_rate=1e-2,\n",
    "              batch_size=1,\n",
    "              vocab_size=vocab_size,\n",
    "              num_epochs=15)"
   ]
  },
  {
   "cell_type": "code",
   "execution_count": 224,
   "metadata": {
    "collapsed": false
   },
   "outputs": [],
   "source": [
    "class deepMind(object):\n",
    "    def __init__(self, hps, mode, debug=True):\n",
    "        self.hps=hps\n",
    "        self.mode=mode\n",
    "        self.batch_pointer=0\n",
    "        \n",
    "    def buildGraph(self, variant=\"fixed_length\"):\n",
    "        # Extracting structural specifics from HPS\n",
    "        D = self.hps.vocab_size\n",
    "        H = self.hps.hidden_size\n",
    "        N = self.hps.batch_size\n",
    "        T = self.hps.seq_length\n",
    "        print(\"\")\n",
    "        \n",
    "                       \n",
    "        # Network :)\n",
    "        with tf.name_scope(\"PlaceHolders\"):\n",
    "            self.X = tf.placeholder(tf.int32, [None, None], \"Inputs\")\n",
    "            self.Y = tf.placeholder(tf.int32, [None, None], \"Expected_Output\")\n",
    "        \n",
    "        #with tf.name_scope(\"embedding\"):\n",
    "        #    embedding = tf.Variable(tf.random_uniform(\n",
    "        #            [D, H],\n",
    "        #            -1.0, 1.0), dtype=tf.float32)\n",
    "        #tf.get_variable(\"embedding\", [D,H], \n",
    "        #                            initializer=tf.random_uniform_initializer(minval=-1.0, maxval=1.0))\n",
    "        #    inputs = tf.nn.embedding_lookup(embedding, self.X)\n",
    "        inputs = tf.one_hot(self.X,self.hps.vocab_size)\n",
    "            \n",
    "        #with tf.name_scope(\"batch_norm\"):\n",
    "        #    inputs = tf.layers.batch_normalization(inputs)\n",
    "        lstm_cell = tf.contrib.rnn.BasicLSTMCell(H)\n",
    "        \n",
    "        outputs, last_states = tf.nn.dynamic_rnn(\n",
    "                                         cell=lstm_cell,\n",
    "                                         dtype=tf.float32,\n",
    "                                         inputs=inputs,\n",
    "                                        # initial_state=lstm_cell.zero_state(N,tf.float32)\n",
    "                                         )       \n",
    "             \n",
    "        with tf.name_scope(\"Dense_Output_Layer\"):\n",
    "            outputs=tf.reshape(outputs, [-1, H])\n",
    "            scores=tf.layers.dense(outputs, D)\n",
    "        tf.summary.histogram('scores', scores)\n",
    "        self.scores=scores\n",
    "        return self.scores\n",
    "      \n",
    "        \n",
    "    def trainStep(self, scores):\n",
    "        # Extracting structural specifics from HPS\n",
    "        D = self.hps.vocab_size\n",
    "        H = self.hps.hidden_size\n",
    "        N = self.hps.batch_size\n",
    "        T = self.hps.seq_length\n",
    "        \n",
    "        \n",
    "        \n",
    "        # Define the additional part of the network Used for training\n",
    "        # Loss and Optimizer\n",
    "        y_int=tf.reshape(self.Y, [-1])\n",
    "        with tf.name_scope(\"COST\"):\n",
    "            loss = tf.nn.softmax_cross_entropy_with_logits(\n",
    "                labels=tf.one_hot(y_int,self.hps.vocab_size),\n",
    "                logits=scores,\n",
    "                name=\"softMaxCrossEntropy\"\n",
    "            )\n",
    "            loss = tf.reduce_mean(loss)\n",
    "        tf.summary.scalar('loss_', loss)\n",
    "        \n",
    "        \n",
    "        with tf.name_scope(\"Predictions\"):\n",
    "            predictions = tf.cast(tf.argmax(scores, axis=-1, name=\"predictions\"), tf.int32)\n",
    "        #accuracy=tf.reduce_mean(tf.cast(tf.equal(predictions, self.Y), tf.float32))\n",
    "                                         \n",
    "        solver = tf.train.AdamOptimizer(hps.learning_rate)\n",
    "        #solver = tf.train.GradientDescentOptimizer(hps.learning_rate)\n",
    "        #solver = tf.train.MomentumOptimizer(hps.learning_rate, 0.9)\n",
    "        \n",
    "        tvars  = tf.trainable_variables()\n",
    "        gs_int = tf.gradients(loss, tvars)\n",
    "        grads = list(zip(gs_int, tf.trainable_variables()))\n",
    "        gs, _  = tf.clip_by_global_norm(gs_int, 3.0)\n",
    "        for grad, var in grads:\n",
    "            tf.summary.histogram(var.name + '/gradient', grad)\n",
    "        #tf.summary.histogram('gradients', gs)\n",
    "        train_step = solver.apply_gradients(zip(gs,tvars), global_step=tf.contrib.framework.get_or_create_global_step())\n",
    "        #train_step = solver.apply_gradients(grads, global_step=tf.contrib.framework.get_or_create_global_step())\n",
    "        summary = tf.summary.merge_all()\n",
    "        return train_step, loss, summary\n",
    "    \n",
    "    def train(self,sess, data,train_ops, writer=None, print_every=100):\n",
    "        num_batches=data.shape[0]//self.hps.batch_size//self.hps.seq_length\n",
    "        #print(num_batches)\n",
    "        for e in tqdm(list(range(hps.num_epochs)), desc='epoch'):\n",
    "            total_correct=0\n",
    "            #print(\"Reset\", total_correct)\n",
    "            for i in range(num_batches):\n",
    "                x,y = self.getNextBatch(data)\n",
    "                feed_dict={self.X: x, self.Y:y}\n",
    "                _, loss, summary = sess.run(train_ops, feed_dict=feed_dict)\n",
    "                if (i % print_every == 0):\n",
    "                    print(\"Loss, Iter %d: %f\" %(i, loss))\n",
    "                if writer is not None:\n",
    "                    writer.add_summary(summary)\n",
    "            #Sample after every 10 epochs to see how we are doing\n",
    "            if (e%1 == 0): \n",
    "                self.sample(sess,self.scores)\n",
    "        \n",
    "    \n",
    "    def sample(self, sess, scores, \n",
    "               seed=\"O\",\n",
    "               #seed=\"I\",\n",
    "               length=200, beam_width=5):\n",
    "        pd = tf.nn.softmax(scores)\n",
    "        x= [char_to_ix[i] for i in seed]\n",
    "        x=np.asarray(x).reshape(1,-1)\n",
    "        y=np.zeros_like(x)\n",
    "        feed_dict={self.X:x, self.Y:y}\n",
    "        pred_str=[]\n",
    "       # print(x.shape, y.shape)\n",
    "        for i in range(length):\n",
    "            p=sess.run(pd, feed_dict=feed_dict)\n",
    "            p=p[-1]\n",
    "            #print(p.shape)\n",
    "            ix = np.random.choice(range(self.hps.vocab_size), p=p.ravel())\n",
    "            #ix=np.argmax(p.ravel())\n",
    "            p.reshape(1,-1)\n",
    "            feed_dict[self.X]=ix*np.ones((1,1))\n",
    "            pred_str.append(ix_to_chars[ix])\n",
    "        txt=''.join(pred_str)\n",
    "        #print(len(pred_str))\n",
    "        print ('----\\n %s \\n----' % (txt, ))\n",
    "\n",
    "            \n",
    "            \n",
    "            \n",
    "        \n",
    "        \n",
    "    \n",
    "    # data is expected to be numpy array of indices\n",
    "    def getNextBatch(self, data):\n",
    "        start=self.batch_pointer\n",
    "        end=start+self.hps.batch_size*self.hps.seq_length\n",
    "        self.batch_pointer=end\n",
    "        x=np.take(data, range(start,end), mode='wrap').reshape(hps.batch_size,-1)\n",
    "        y=np.copy(x)\n",
    "        y[:-1]=x[1:]\n",
    "        y[-1]=x[0]\n",
    "        return x,y\n",
    "        \n",
    "                                \n",
    "        \n",
    "\n",
    "\n"
   ]
  },
  {
   "cell_type": "code",
   "execution_count": 225,
   "metadata": {
    "collapsed": false,
    "scrolled": true
   },
   "outputs": [
    {
     "name": "stdout",
     "output_type": "stream",
     "text": [
      "\n",
      "INFO:tensorflow:Summary name rnn/basic_lstm_cell/weights:0/gradient is illegal; using rnn/basic_lstm_cell/weights_0/gradient instead.\n"
     ]
    },
    {
     "name": "stderr",
     "output_type": "stream",
     "text": [
      "INFO:tensorflow:Summary name rnn/basic_lstm_cell/weights:0/gradient is illegal; using rnn/basic_lstm_cell/weights_0/gradient instead.\n"
     ]
    },
    {
     "name": "stdout",
     "output_type": "stream",
     "text": [
      "INFO:tensorflow:Summary name rnn/basic_lstm_cell/biases:0/gradient is illegal; using rnn/basic_lstm_cell/biases_0/gradient instead.\n"
     ]
    },
    {
     "name": "stderr",
     "output_type": "stream",
     "text": [
      "INFO:tensorflow:Summary name rnn/basic_lstm_cell/biases:0/gradient is illegal; using rnn/basic_lstm_cell/biases_0/gradient instead.\n"
     ]
    },
    {
     "name": "stdout",
     "output_type": "stream",
     "text": [
      "INFO:tensorflow:Summary name dense/kernel:0/gradient is illegal; using dense/kernel_0/gradient instead.\n"
     ]
    },
    {
     "name": "stderr",
     "output_type": "stream",
     "text": [
      "INFO:tensorflow:Summary name dense/kernel:0/gradient is illegal; using dense/kernel_0/gradient instead.\n"
     ]
    },
    {
     "name": "stdout",
     "output_type": "stream",
     "text": [
      "INFO:tensorflow:Summary name dense/bias:0/gradient is illegal; using dense/bias_0/gradient instead.\n"
     ]
    },
    {
     "name": "stderr",
     "output_type": "stream",
     "text": [
      "INFO:tensorflow:Summary name dense/bias:0/gradient is illegal; using dense/bias_0/gradient instead.\n",
      "epoch:   0%|          | 0/15 [00:00<?, ?it/s]"
     ]
    },
    {
     "name": "stdout",
     "output_type": "stream",
     "text": [
      "Loss, Iter 0: 4.101541\n",
      "Loss, Iter 100: 0.827361\n",
      "Loss, Iter 200: 0.035981\n",
      "Loss, Iter 300: 0.111488\n",
      "Loss, Iter 400: 0.080561\n",
      "Loss, Iter 500: 0.009174\n",
      "Loss, Iter 600: 0.035601\n",
      "Loss, Iter 700: 0.037422\n",
      "----\n",
      " aaaaaaaaaaaaaaaaaaaaaaaaaaaaaaaaaaaaaaaaaaaaaaaaaaaaaaaaaaaaaaaaaaaaaaaaaaaaaaaaaaaaaaaaaaaaaaaaaaaaaaaaaaaaaaaaaaaaaaaaaaaaaaaaaaaaaaaaaaaaaaaaaaaaaaaaaaaaaaaaaaaaaaaaaaaaaaaaaaaaaaaaaaaaaaaaaaaaaaaa \n",
      "----"
     ]
    },
    {
     "name": "stderr",
     "output_type": "stream",
     "text": [
      "\r",
      "epoch:   7%|▋         | 1/15 [00:07<01:47,  7.68s/it]"
     ]
    },
    {
     "name": "stdout",
     "output_type": "stream",
     "text": [
      "\n",
      "Loss, Iter 0: 1.104358\n",
      "Loss, Iter 100: 0.002319\n",
      "Loss, Iter 200: 0.004266\n",
      "Loss, Iter 300: 0.003586\n",
      "Loss, Iter 400: 0.001683\n",
      "Loss, Iter 500: 0.834942\n",
      "Loss, Iter 600: 0.001588\n",
      "Loss, Iter 700: 0.001318\n",
      "----\n",
      " NNNNNNNNNNNNNNNNNNNNNNNNNNNNN,,,,,,,,,,,,,,,,,,,,,,,,,,,,,,,,,,,,,,,,,,,,,,,,,,,,,,,,,,,,,,,,,,,,,,,,,,,,,,,,,,,,,,,,,,,,,,,,,,,,,,,,,,,,,,,,,,,,,,,,,,,,,,,,,,,,,,,,,,,,,,,,,,,,,,,,,,,,,,,,,,,,,,,,,,, \n",
      "----"
     ]
    },
    {
     "name": "stderr",
     "output_type": "stream",
     "text": [
      "\r",
      "epoch:  13%|█▎        | 2/15 [00:15<01:40,  7.71s/it]"
     ]
    },
    {
     "name": "stdout",
     "output_type": "stream",
     "text": [
      "\n",
      "Loss, Iter 0: 0.000966\n",
      "Loss, Iter 100: 0.029005\n",
      "Loss, Iter 200: 0.001397\n",
      "Loss, Iter 300: 0.000585\n",
      "Loss, Iter 400: 0.000484\n",
      "Loss, Iter 500: 0.613907\n",
      "Loss, Iter 600: 0.014198\n",
      "Loss, Iter 700: 0.002390\n",
      "----\n",
      " wwwwwwwwwwwwwwwwwwwwwwwwwwwwwwwwwwwwwwwwwwwwwwwwwwwwwwwwwwwwwwwwwwwwwwwwwwwwwwwwwwwwwwwwwwwwwwwwwwwwwwwwwwwwwwwwwwwwwwwwwwwwwwwwwwwwwwwwwwwwwwwwwwwwwwwwwwwwwwwwwwwwwwwwwwwwwwwwwwwwwwwwwwwwwwwwwwwwwwww \n",
      "----"
     ]
    },
    {
     "name": "stderr",
     "output_type": "stream",
     "text": [
      "\r",
      "epoch:  20%|██        | 3/15 [00:23<01:32,  7.73s/it]"
     ]
    },
    {
     "name": "stdout",
     "output_type": "stream",
     "text": [
      "\n",
      "Loss, Iter 0: 0.001148\n",
      "Loss, Iter 100: 0.000546\n",
      "Loss, Iter 200: 0.004737\n",
      "Loss, Iter 300: 0.009387\n",
      "Loss, Iter 400: 0.000915\n",
      "Loss, Iter 500: 0.004203\n",
      "Loss, Iter 600: 0.004458\n",
      "Loss, Iter 700: 0.017991\n",
      "----\n",
      " OOOOOOOOOOOOOOOOOOOOIIIIIIIIIIIIIIIIIIIIIIIIIIIIIIIIIIIIIIIIIIIIIIIIIIIIIIIIIIIIIIIIIIIIIIIIIIIIIIIIIIIIIIIIIIIIIIIIIIIIIIIIIIIIIIIIIIIIIIIIIIIIIIIIIIIIIIIIIIIIIIIIIIIIIIIIIIIIIIIIIIIIIIIIIIIIIIIIIIII \n",
      "----"
     ]
    },
    {
     "name": "stderr",
     "output_type": "stream",
     "text": [
      "\r",
      "epoch:  27%|██▋       | 4/15 [00:31<01:25,  7.76s/it]"
     ]
    },
    {
     "name": "stdout",
     "output_type": "stream",
     "text": [
      "\n",
      "Loss, Iter 0: 0.001033\n",
      "Loss, Iter 100: 0.001209\n",
      "Loss, Iter 200: 0.000241\n",
      "Loss, Iter 300: 0.050685\n",
      "Loss, Iter 400: 0.000670\n",
      "Loss, Iter 500: 0.001407\n",
      "Loss, Iter 600: 0.000405\n",
      "Loss, Iter 700: 0.000082\n",
      "----\n",
      " OOOOOOOOOOOOOOOOOOOOOOOOOOOOOOOOOOOOOOOOiiiiiiiiiiiiiiiiiiiiiiiiiiiiiiiiiiiiiiiiiiiiiiiiiiiiiiiiiiiiiiiiiiiiiiiiiiiiiiiiiiiiiiiiiiiiiiiiiiiiiiiiiiiiiiiiiiiiiiiiiiiiiiiiiiiiiiiiiiiiiiiiiiiiiiiiiiiiiiii \n",
      "----"
     ]
    },
    {
     "name": "stderr",
     "output_type": "stream",
     "text": [
      "\r",
      "epoch:  33%|███▎      | 5/15 [00:38<01:17,  7.79s/it]"
     ]
    },
    {
     "name": "stdout",
     "output_type": "stream",
     "text": [
      "\n",
      "Loss, Iter 0: 0.000172\n",
      "Loss, Iter 100: 0.000076\n",
      "Loss, Iter 200: 0.000092\n",
      "Loss, Iter 300: 0.003373\n",
      "Loss, Iter 400: 0.000328\n",
      "Loss, Iter 500: 0.013270\n",
      "Loss, Iter 600: 0.001690\n",
      "Loss, Iter 700: 0.008944\n",
      "----\n",
      " OOOOOOOOOO;;;;;RRRRRRRRRRRRRRRRRRRRRRRRRRRRRRRRRRRRRRRRRRRRRRRRR”””””””””””””””””””””””””””””””””””””””””””””””””””””””””””””””””””””””””””””””””””””””””””””””””””””””””””””””””””””””””””””””””””””””” \n",
      "----"
     ]
    },
    {
     "name": "stderr",
     "output_type": "stream",
     "text": [
      "\r",
      "epoch:  40%|████      | 6/15 [00:46<01:10,  7.85s/it]"
     ]
    },
    {
     "name": "stdout",
     "output_type": "stream",
     "text": [
      "\n",
      "Loss, Iter 0: 0.000293\n",
      "Loss, Iter 100: 0.002490\n",
      "Loss, Iter 200: 0.184629\n",
      "Loss, Iter 300: 0.001664\n",
      "Loss, Iter 400: 0.000696\n",
      "Loss, Iter 500: 0.000360\n",
      "Loss, Iter 600: 0.001389\n",
      "Loss, Iter 700: 0.002931\n",
      "----\n",
      " OOOOOOOOOOOOOOOOOOOOOOOOOOOOOOOOOOOOOOOOOOOOOOOOOOOOOOOOOOOOOOOOOOOOOOOOOOOOOOOOOOOOOOOOOOOOOOOOOOOOOOOOOOOOOOOOOOOOOOOOOOOOOOOOOOOOOOOOOOOOOOOOOOOOOOOOOOOOOOOOOOOOOOOOOOOOOOOOOOOOOOOOOOOOOOOOOOOOOOOO \n",
      "----"
     ]
    },
    {
     "name": "stderr",
     "output_type": "stream",
     "text": [
      "\r",
      "epoch:  47%|████▋     | 7/15 [00:54<01:03,  7.91s/it]"
     ]
    },
    {
     "name": "stdout",
     "output_type": "stream",
     "text": [
      "\n",
      "Loss, Iter 0: 0.002504\n",
      "Loss, Iter 100: 0.000621\n",
      "Loss, Iter 200: 0.011593\n",
      "Loss, Iter 300: 0.000823\n",
      "Loss, Iter 400: 0.002401\n",
      "Loss, Iter 500: 0.008353\n",
      "Loss, Iter 600: 0.000082\n",
      "Loss, Iter 700: 0.000235\n",
      "----\n",
      " OOOOOOOOOOOOOOOOOOOOOOOOOOOOOOOOOOOOOOOOOOOOOOOOOOOOOOOOOOOOOOOOOOOOOOOOOOOOOOOOOOOOOOOOOOOOOOOOOOOOOOOOOOOOOOOOOOOOOOOOOOOOOOOOOOOOOOOOOOOOOOOOOOOOOOOOOOOOOOOOOOOOOOOOOOOOOOOOOOOOOOOOOOOOOOOOOOOOOOOO \n",
      "----"
     ]
    },
    {
     "name": "stderr",
     "output_type": "stream",
     "text": [
      "\r",
      "epoch:  53%|█████▎    | 8/15 [01:02<00:55,  7.94s/it]"
     ]
    },
    {
     "name": "stdout",
     "output_type": "stream",
     "text": [
      "\n",
      "Loss, Iter 0: 0.000266\n",
      "Loss, Iter 100: 0.000059\n",
      "Loss, Iter 200: 0.002605\n",
      "Loss, Iter 300: 0.001686\n",
      "Loss, Iter 400: 0.000713\n",
      "Loss, Iter 500: 0.001414\n",
      "Loss, Iter 600: 0.005838\n",
      "Loss, Iter 700: 0.000961\n",
      "----\n",
      " OOOOOOOOOOOOOOOOOOOOOOOOOOOOOOOOOOOOOOOOOOOOOOOOOOOOOOOOOOOOOOOOOOOOOOOOOOOOOOOOOOOOOOOOOOOOOOOOOOOOOOOOOOOOOOOOOOOOOOOOOnnnnnnnnnnnnnnnnnnnnnnnnnnnnnnnnnnnnnnnnnnnnnnnnnnnnnnnnnnnnnnnnnnnnnnnnnnnnnnn \n",
      "----"
     ]
    },
    {
     "name": "stderr",
     "output_type": "stream",
     "text": [
      "\r",
      "epoch:  60%|██████    | 9/15 [01:11<00:47,  7.99s/it]"
     ]
    },
    {
     "name": "stdout",
     "output_type": "stream",
     "text": [
      "\n",
      "Loss, Iter 0: 0.002475\n",
      "Loss, Iter 100: 0.001039\n",
      "Loss, Iter 200: 0.000776\n",
      "Loss, Iter 300: 0.002988\n",
      "Loss, Iter 400: 0.001473\n",
      "Loss, Iter 500: 0.001247\n",
      "Loss, Iter 600: 0.000228\n",
      "Loss, Iter 700: 0.000416\n",
      "----\n",
      " OOOOOOOOOOOOOOOOOOOOOOOOOOOOOOOOOOOOOOOOOOOOOOOOOOOOOOOOOOOOOOOOOOOOOOOOOOOOOOOOOOOOOOOOOOOOOOOOOOOOOOOOOOOOOOOOOOOOOOOOOOOOOOOOOOOOOOOOOOOfffffffffffffffffffffffffffffffffffffffffffffffffffffffffffff \n",
      "----"
     ]
    },
    {
     "name": "stderr",
     "output_type": "stream",
     "text": [
      "\r",
      "epoch:  67%|██████▋   | 10/15 [01:19<00:40,  8.03s/it]"
     ]
    },
    {
     "name": "stdout",
     "output_type": "stream",
     "text": [
      "\n",
      "Loss, Iter 0: 0.000170\n",
      "Loss, Iter 100: 0.000191\n",
      "Loss, Iter 200: 0.000672\n",
      "Loss, Iter 300: 0.000226\n",
      "Loss, Iter 400: 0.005565\n",
      "Loss, Iter 500: 0.000536\n",
      "Loss, Iter 600: 0.000173\n",
      "Loss, Iter 700: 0.000118\n",
      "----\n",
      " OOOOOOOOOOOOOOOOOOOOOOOOOOOOOOOOOOOOOOOOOOOOOOOOOOOOOOOOOOOOOOOOOOOOOOOOOOOOOOOOOOOOOOOOOOOOOOOOOOOOOOOOOOOOOOOOOOOOOOOOOOOOOOOOOOOOOOOOOOOOOOOOOOOOOOOOOOOOOOOOOOOOOOOOOOOOOOOOOOOOOOOOOOOOOOOOOOOOOOOO \n",
      "----"
     ]
    },
    {
     "name": "stderr",
     "output_type": "stream",
     "text": [
      "\r",
      "epoch:  73%|███████▎  | 11/15 [01:27<00:32,  8.05s/it]"
     ]
    },
    {
     "name": "stdout",
     "output_type": "stream",
     "text": [
      "\n",
      "Loss, Iter 0: 0.000167\n",
      "Loss, Iter 100: 0.000228\n",
      "Loss, Iter 200: 0.000062\n",
      "Loss, Iter 300: 0.001690\n",
      "Loss, Iter 400: 0.000289\n",
      "Loss, Iter 500: 0.000278\n",
      "Loss, Iter 600: 0.002432\n",
      "Loss, Iter 700: 0.000188\n",
      "----\n",
      " OOOOOOOOOOOOOOOOOOOOOOOOOOOOOOOOOOOOOOOOOOOOOOOOOOOOOOOOOOOOOOOOOOOOOOOOOOOOOOOOOOOOOOOOOOOOOOOOOOOOOOOOOOOOOOOOOOOOOOOOOOOOOOOOOOOOOOOOOOOOOOOOOOOOOOOOOOOOOOOOOOOOOOOOOOOOOOOOOOOOOOOOOOOOOOOOOOOOOOOO \n",
      "----"
     ]
    },
    {
     "name": "stderr",
     "output_type": "stream",
     "text": [
      "\r",
      "epoch:  80%|████████  | 12/15 [01:35<00:24,  8.08s/it]"
     ]
    },
    {
     "name": "stdout",
     "output_type": "stream",
     "text": [
      "\n",
      "Loss, Iter 0: 0.000902\n",
      "Loss, Iter 100: 0.000318\n",
      "Loss, Iter 200: 0.000528\n",
      "Loss, Iter 300: 0.000359\n",
      "Loss, Iter 400: 0.009840\n",
      "Loss, Iter 500: 0.002290\n",
      "Loss, Iter 600: 0.000191\n",
      "Loss, Iter 700: 0.000270\n",
      "----\n",
      " OOOOOOOOOOOOOOOOOOOOOOOOOOOOOOOOOOOOOOOOOOOOOOOOOOOOOOOOOOOOOOOOOOOOOOOOOOOOOOOOOOOOOOOOOOOOOOOOOOOOOOOOOOOOOOOOOOOOOOOOOOOOOOOOOOOOOOOOOOOOOOOOOOOOOOOOOOOOOOOOOOOOOOOOOOOOOOOOOOOOOOOOOOOOOOOOOOOOOOOO \n",
      "----"
     ]
    },
    {
     "name": "stderr",
     "output_type": "stream",
     "text": [
      "\r",
      "epoch:  87%|████████▋ | 13/15 [01:43<00:16,  8.10s/it]"
     ]
    },
    {
     "name": "stdout",
     "output_type": "stream",
     "text": [
      "\n",
      "Loss, Iter 0: 0.000172\n",
      "Loss, Iter 100: 0.155891\n",
      "Loss, Iter 200: 0.000201\n",
      "Loss, Iter 300: 0.000155\n",
      "Loss, Iter 400: 0.000326\n",
      "Loss, Iter 500: 0.000110\n",
      "Loss, Iter 600: 0.000471\n",
      "Loss, Iter 700: 0.000155\n",
      "----\n",
      " OOOOOOOOOOOOOOOOOOOOOOOOOOOOOOOOOOOOOOOOOOOOOOOOOOOOOOOOOOOOOOOOOOOOOOOOOOOOOOOOOOOOOOOOOOOOOOOOOOOOOOOOOOOOOOOOOOOOOOOOOOOOOOOOOOOOOOOOOOOOOOOOOOOOOOOOOOOOOOOOOOOOOOOOOOOOOOOOOOOOOOOOOOOOOOOOOOOOOOOO \n",
      "----"
     ]
    },
    {
     "name": "stderr",
     "output_type": "stream",
     "text": [
      "\r",
      "epoch:  93%|█████████▎| 14/15 [01:51<00:08,  8.12s/it]"
     ]
    },
    {
     "name": "stdout",
     "output_type": "stream",
     "text": [
      "\n",
      "Loss, Iter 0: 0.000175\n",
      "Loss, Iter 100: 0.000063\n",
      "Loss, Iter 200: 0.000534\n",
      "Loss, Iter 300: 0.000057\n",
      "Loss, Iter 400: 0.000025\n",
      "Loss, Iter 500: 0.000154\n",
      "Loss, Iter 600: 0.000038\n",
      "Loss, Iter 700: 0.000102\n",
      "----\n",
      " OOOOOOOOOOOOOOOOOOOOOOOOOOOOOOOOOOOOOOOOOOOOOOOOOOOOOOOOOOOOOOOOOOOOOOOOOOOOOOOOOOOOOOOOOOOOOOOOOOOOOOOOOOOOOOOOOOOOOOOOOOOOOOOOOOOOOOOOOOOOOOOOOOOOOOOOOOOOOOOOOOOOOOOOOOOOOOOOOOOOOOOOOOOOOOOOOOOOOOOO \n",
      "----"
     ]
    },
    {
     "name": "stderr",
     "output_type": "stream",
     "text": [
      "\r",
      "epoch: 100%|██████████| 15/15 [01:59<00:00,  8.12s/it]"
     ]
    },
    {
     "name": "stdout",
     "output_type": "stream",
     "text": [
      "\n",
      "----\n",
      " OOOOOOOOOOOOOOOOOOOOOOOOOOOOOOOOOOOOOOOOOOOOOOOOOOOOOOOOOOOOOOOOOOOOOOOOOOOOOOOOOOOOOOOOOOOOOOOOOOOOOOOOOOOOOOOOOOOOOOOOOOOOOOOOOOOOOOOOOOOOOOOOOOOOOOOOOOOOOOOOOOOOOOOOOOOOOOOOOOOOOOOOOOOOOOOOOOOOOOOO \n",
      "----\n"
     ]
    },
    {
     "name": "stderr",
     "output_type": "stream",
     "text": [
      "\n"
     ]
    }
   ],
   "source": [
    "model=deepMind (hps,'train')\n",
    "\n",
    "tf.reset_default_graph()\n",
    "scores=model.buildGraph()\n",
    "train_ops=model.trainStep(scores)\n",
    "\n",
    "config = tf.ConfigProto(allow_soft_placement=True)\n",
    "config.gpu_options.allow_growth = True\n",
    "sess=tf.Session(config=config)\n",
    "summaries=tf.summary.merge_all()\n",
    "writer = tf.summary.FileWriter(\n",
    "            os.path.join('./tf_logs', time.strftime(\"%Y-%m-%d-%H-%M-%S\")))\n",
    "writer.add_graph(sess.graph)\n",
    "\n",
    "with tf.device(\"/gpu:0\"): #\"/cpu:0\" or \"/gpu:0\" \n",
    "    \n",
    "    sess.run(tf.global_variables_initializer())\n",
    "    model.train(sess, data, train_ops,writer)\n",
    "    model.sample(sess, scores) \n",
    "    \n",
    "    "
   ]
  },
  {
   "cell_type": "code",
   "execution_count": null,
   "metadata": {
    "collapsed": true
   },
   "outputs": [],
   "source": []
  },
  {
   "cell_type": "code",
   "execution_count": null,
   "metadata": {
    "collapsed": true
   },
   "outputs": [],
   "source": []
  }
 ],
 "metadata": {
  "kernelspec": {
   "display_name": "Python 3",
   "language": "python",
   "name": "python3"
  },
  "language_info": {
   "codemirror_mode": {
    "name": "ipython",
    "version": 3
   },
   "file_extension": ".py",
   "mimetype": "text/x-python",
   "name": "python",
   "nbconvert_exporter": "python",
   "pygments_lexer": "ipython3",
   "version": "3.5.2"
  }
 },
 "nbformat": 4,
 "nbformat_minor": 1
}
