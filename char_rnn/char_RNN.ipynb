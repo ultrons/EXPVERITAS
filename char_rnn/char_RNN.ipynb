{
 "cells": [
  {
   "cell_type": "code",
   "execution_count": 1,
   "metadata": {
    "collapsed": true
   },
   "outputs": [],
   "source": [
    "import tensorflow as tf\n",
    "import numpy as np\n",
    "\n",
    "from collections import namedtuple\n",
    "from tqdm import tqdm\n",
    "import os\n",
    "import time"
   ]
  },
  {
   "cell_type": "code",
   "execution_count": 2,
   "metadata": {
    "collapsed": false
   },
   "outputs": [
    {
     "name": "stdout",
     "output_type": "stream",
     "text": [
      "The dataset has 1115394 characters and 65 unique.\n"
     ]
    }
   ],
   "source": [
    "# Reading the data\n",
    "data = open('sample_input.big.txt').read()\n",
    "\n",
    "# Vocabulary business\n",
    "\n",
    "# 1. Create a list of unique characters\n",
    "chars = list(set(data))\n",
    "data_size, vocab_size = len(data), len(chars)\n",
    "\n",
    "char_to_ix = {ch:i for i,ch in enumerate(chars) }\n",
    "ix_to_chars = {i:ch for i,ch in enumerate(chars)}\n",
    "\n",
    "x=np.zeros(len(data))\n",
    "for i, c in enumerate(data):\n",
    "    x[i]=char_to_ix[c]\n",
    "\n",
    "data=x\n",
    "\n",
    "print(\"The dataset has %d characters and %d unique.\" %(data_size, vocab_size))"
   ]
  },
  {
   "cell_type": "code",
   "execution_count": 91,
   "metadata": {
    "collapsed": false
   },
   "outputs": [],
   "source": [
    "# Defining hyperparameter tuple and setting hyper parameters\n",
    "hparams = namedtuple('hyper_parameters', \n",
    "                     'hidden_size, seq_length, learning_rate,'\n",
    "                     'batch_size, vocab_size,'\n",
    "                    'num_epochs')\n",
    "\n",
    "\n",
    "hps = hparams(hidden_size=200,\n",
    "              seq_length=20,\n",
    "              learning_rate=1e-1,\n",
    "              batch_size=200,\n",
    "              vocab_size=vocab_size,\n",
    "              num_epochs=1)"
   ]
  },
  {
   "cell_type": "code",
   "execution_count": 137,
   "metadata": {
    "collapsed": false
   },
   "outputs": [],
   "source": [
    "class deepMind(object):\n",
    "    def __init__(self, hps, mode, debug=True):\n",
    "        self.hps=hps\n",
    "        self.mode=mode\n",
    "        self.batch_pointer=0\n",
    "        \n",
    "    def buildGraph(self, variant=\"fixed_length\"):\n",
    "        # Extracting structural specifics from HPS\n",
    "        D = self.hps.vocab_size\n",
    "        H = self.hps.hidden_size\n",
    "        N = self.hps.batch_size\n",
    "        T = self.hps.seq_length\n",
    "        print(\"\")\n",
    "        self.global_step = tf.contrib.framework.get_or_create_global_step()\n",
    "                       \n",
    "        # Network :)\n",
    "        with tf.name_scope(\"PlaceHolders\"):\n",
    "            self.X = tf.placeholder(tf.int32, [N,T], \"Inputs\")\n",
    "            self.Y = tf.placeholder(tf.int32, [N,T], \"Expected_Output\")\n",
    "        \n",
    "        with tf.name_scope(\"embedding\"):\n",
    "            embedding = tf.Variable(tf.random_uniform(\n",
    "                    [D, H],\n",
    "                    -1.0, 1.0), dtype=tf.float32)\n",
    "        #tf.get_variable(\"embedding\", [D,H], \n",
    "        #                            initializer=tf.random_uniform_initializer(minval=-1.0, maxval=1.0))\n",
    "            inputs = tf.nn.embedding_lookup(embedding, self.X)\n",
    "            \n",
    "        with tf.name_scope(\"batch_norm\"):\n",
    "            inputs = tf.layers.batch_normalization(inputs)\n",
    "        lstm_cell = tf.contrib.rnn.BasicLSTMCell(H)\n",
    "        \n",
    "        outputs, last_states = tf.nn.dynamic_rnn(\n",
    "                                         cell=lstm_cell,\n",
    "                                         dtype=tf.float32,\n",
    "                                         inputs=inputs)\n",
    "        print(\"HIT\", outputs.get_shape().as_list())\n",
    "        #outputs = tf.contrib.layers.flatten(outputs)\n",
    "        \n",
    "        #outputs=tf.reshape(outputs, [-1,H])\n",
    "        \n",
    "        with tf.name_scope(\"Dense_Output_Layer\"):\n",
    "            scores=tf.layers.dense(outputs, D)\n",
    "        \n",
    "        print(\"HITP\", outputs.get_shape().as_list())\n",
    "        tf.summary.histogram('scores', scores)\n",
    "        \n",
    "        print(scores.get_shape().as_list())\n",
    "        \n",
    "        return scores\n",
    "        #tf.contrib.legacy_seq2seq()\n",
    "      \n",
    "        \n",
    "    def trainStep(self, scores):\n",
    "        # Extracting structural specifics from HPS\n",
    "        D = self.hps.vocab_size\n",
    "        H = self.hps.hidden_size\n",
    "        N = self.hps.batch_size\n",
    "        T = self.hps.seq_length\n",
    "        \n",
    "        \n",
    "        \n",
    "        # Define the additional part of the network Used for training\n",
    "        # Loss and Optimizer\n",
    "        y_int=tf.reshape(self.Y, [-1,1])\n",
    "        print(y_int.get_shape().as_list())\n",
    "        print(scores.get_shape().as_list())\n",
    "        with tf.name_scope(\"COST\"):\n",
    "            loss = tf.nn.softmax_cross_entropy_with_logits(\n",
    "                labels=tf.one_hot(y_int,self.hps.vocab_size),\n",
    "                #logits=tf.reshape(scores,[-1,self.hps.vocab_size]),\n",
    "                logits=scores,\n",
    "                name=\"softMaxCrossEntropy\"\n",
    "            )\n",
    "            loss = tf.reduce_sum(loss)\n",
    "        #print(loss.get_shape().as_list())\n",
    "        tf.summary.scalar('loss_', loss)\n",
    "        \n",
    "        \n",
    "        with tf.name_scope(\"Predictions\"):\n",
    "            predictions = tf.cast(tf.argmax(scores, axis=-1, name=\"predictions\"), tf.int32)\n",
    "        #accuracy=tf.reduce_mean(tf.cast(tf.equal(predictions, self.Y), tf.float32))\n",
    "                                         \n",
    "        #solver = tf.train.AdamOptimizer(hps.learning_rate)\n",
    "        #solver = tf.train.GradientDescentOptimizer(hps.learning_rate)\n",
    "        solver = tf.train.MomentumOptimizer(hps.learning_rate, 0.9)\n",
    "        \n",
    "        tvars  = tf.trainable_variables()\n",
    "        gs_int = tf.gradients(loss, tvars)\n",
    "        grads = list(zip(gs_int, tf.trainable_variables()))\n",
    "        #gs, _  = tf.clip_by_global_norm(gs_int, 3.0)\n",
    "        for grad, var in grads:\n",
    "            tf.summary.histogram(var.name + '/gradient', grad)\n",
    "        #tf.summary.histogram('gradients', gs)\n",
    "        train_step = solver.apply_gradients(grads, global_step=self.global_step)\n",
    "        summary = tf.summary.merge_all()\n",
    "        return train_step, loss, summary\n",
    "    \n",
    "    def train(self,sess, data,train_ops, writer=None, print_every=100):\n",
    "        num_batches=data.shape[0]//self.hps.batch_size//self.hps.seq_length\n",
    "        #print(num_batches)\n",
    "        for e in tqdm(list(range(hps.num_epochs)), desc='epoch'):\n",
    "            total_correct=0\n",
    "            #print(\"Reset\", total_correct)\n",
    "            for i in range(num_batches):\n",
    "                x,y = self.getNextBatch(data)\n",
    "                feed_dict={self.X: x, self.Y:y}\n",
    "                _, loss, summary = sess.run(train_ops, feed_dict=feed_dict)\n",
    "                if (i % print_every == 0):\n",
    "                    print(\"Training Accuracy in iter %d: %f\" %(i, loss))\n",
    "                if writer is not None:\n",
    "                    writer.add_summary(summary)\n",
    "            #acc=total_correct/(self.hps.batch_size*self.hps.seq_length*num_batches)\n",
    "                \n",
    "            \n",
    "            total_correct=0\n",
    "        \n",
    "    \n",
    "    def sample(self, sess, scores, \n",
    "               #seed=\"Super Bowl was an American football game to determine the champion of the National Football League\",\n",
    "               seed=\"S\",\n",
    "               length=1000, beam_width=5):\n",
    "        #predictions = tf.cast(tf.argmax(scores, axis=-1, name=\"predictions\"), tf.int32)\n",
    "        pd = tf.nn.softmax(scores)\n",
    "        x= [char_to_ix[i] for i in seed]\n",
    "        #print(x)\n",
    "        x=np.asarray(x).reshape(1,-1)\n",
    "        y=np.zeros_like(x)\n",
    "        feed_dict={self.X:x, self.Y:y}\n",
    "        pred_str=[]\n",
    "        for i in range(length):\n",
    "            p=sess.run(pd, feed_dict=feed_dict)\n",
    "            #rint(p.shape)\n",
    "            ix = np.random.choice(range(self.hps.vocab_size), p=p.ravel())\n",
    "            p.reshape(1,-1)\n",
    "            feed_dict[self.X]=ix*np.ones((1,1))\n",
    "            pred_str+=ix_to_chars[ix]\n",
    "            #print(np.asscalar(p))\n",
    "        \n",
    "        print(''.join(pred_str))\n",
    "            \n",
    "            \n",
    "            \n",
    "        \n",
    "        \n",
    "    \n",
    "    # data is expected to be numpy array of indices\n",
    "    def getNextBatch(self, data):\n",
    "        start=self.batch_pointer\n",
    "        end=start+self.hps.batch_size*self.hps.seq_length\n",
    "        self.batch_pointer=end\n",
    "        x=np.take(data, range(start,end), mode='wrap').reshape(hps.batch_size,-1)\n",
    "        y=np.copy(x)\n",
    "        y[:-1]=x[1:]\n",
    "        y[-1]=x[0]\n",
    "        return x,y\n",
    "        \n",
    "                                \n",
    "        \n",
    "\n",
    "\n"
   ]
  },
  {
   "cell_type": "code",
   "execution_count": 138,
   "metadata": {
    "collapsed": false
   },
   "outputs": [
    {
     "name": "stdout",
     "output_type": "stream",
     "text": [
      "\n",
      "HIT [200, 20, 200]\n",
      "HITP [200, 20, 200]\n",
      "[200, 20, 65]\n",
      "[4000, 1]\n",
      "[200, 20, 65]\n",
      "INFO:tensorflow:Summary name embedding/Variable:0/gradient is illegal; using embedding/Variable_0/gradient instead.\n"
     ]
    },
    {
     "name": "stderr",
     "output_type": "stream",
     "text": [
      "INFO:tensorflow:Summary name embedding/Variable:0/gradient is illegal; using embedding/Variable_0/gradient instead.\n"
     ]
    },
    {
     "name": "stdout",
     "output_type": "stream",
     "text": [
      "INFO:tensorflow:Summary name batch_normalization/beta:0/gradient is illegal; using batch_normalization/beta_0/gradient instead.\n"
     ]
    },
    {
     "name": "stderr",
     "output_type": "stream",
     "text": [
      "INFO:tensorflow:Summary name batch_normalization/beta:0/gradient is illegal; using batch_normalization/beta_0/gradient instead.\n"
     ]
    },
    {
     "name": "stdout",
     "output_type": "stream",
     "text": [
      "INFO:tensorflow:Summary name batch_normalization/gamma:0/gradient is illegal; using batch_normalization/gamma_0/gradient instead.\n"
     ]
    },
    {
     "name": "stderr",
     "output_type": "stream",
     "text": [
      "INFO:tensorflow:Summary name batch_normalization/gamma:0/gradient is illegal; using batch_normalization/gamma_0/gradient instead.\n"
     ]
    },
    {
     "name": "stdout",
     "output_type": "stream",
     "text": [
      "INFO:tensorflow:Summary name rnn/basic_lstm_cell/weights:0/gradient is illegal; using rnn/basic_lstm_cell/weights_0/gradient instead.\n"
     ]
    },
    {
     "name": "stderr",
     "output_type": "stream",
     "text": [
      "INFO:tensorflow:Summary name rnn/basic_lstm_cell/weights:0/gradient is illegal; using rnn/basic_lstm_cell/weights_0/gradient instead.\n"
     ]
    },
    {
     "name": "stdout",
     "output_type": "stream",
     "text": [
      "INFO:tensorflow:Summary name rnn/basic_lstm_cell/biases:0/gradient is illegal; using rnn/basic_lstm_cell/biases_0/gradient instead.\n"
     ]
    },
    {
     "name": "stderr",
     "output_type": "stream",
     "text": [
      "INFO:tensorflow:Summary name rnn/basic_lstm_cell/biases:0/gradient is illegal; using rnn/basic_lstm_cell/biases_0/gradient instead.\n"
     ]
    },
    {
     "name": "stdout",
     "output_type": "stream",
     "text": [
      "INFO:tensorflow:Summary name dense/kernel:0/gradient is illegal; using dense/kernel_0/gradient instead.\n"
     ]
    },
    {
     "name": "stderr",
     "output_type": "stream",
     "text": [
      "INFO:tensorflow:Summary name dense/kernel:0/gradient is illegal; using dense/kernel_0/gradient instead.\n"
     ]
    },
    {
     "name": "stdout",
     "output_type": "stream",
     "text": [
      "INFO:tensorflow:Summary name dense/bias:0/gradient is illegal; using dense/bias_0/gradient instead.\n"
     ]
    },
    {
     "name": "stderr",
     "output_type": "stream",
     "text": [
      "INFO:tensorflow:Summary name dense/bias:0/gradient is illegal; using dense/bias_0/gradient instead.\n",
      "epoch:   0%|          | 0/1 [00:00<?, ?it/s]"
     ]
    },
    {
     "name": "stdout",
     "output_type": "stream",
     "text": [
      "Training Accuracy in iter 0: 16774.820312\n",
      "Training Accuracy in iter 100: 27948858.000000\n",
      "Training Accuracy in iter 200: 43884828.000000"
     ]
    },
    {
     "name": "stderr",
     "output_type": "stream",
     "text": [
      "\r",
      "epoch: 100%|██████████| 1/1 [00:03<00:00,  3.85s/it]"
     ]
    },
    {
     "name": "stdout",
     "output_type": "stream",
     "text": [
      "\n"
     ]
    },
    {
     "name": "stderr",
     "output_type": "stream",
     "text": [
      "\n"
     ]
    }
   ],
   "source": [
    "model=deepMind (hps,'train')\n",
    "\n",
    "tf.reset_default_graph()\n",
    "scores=model.buildGraph()\n",
    "train_ops=model.trainStep(scores)\n",
    "\n",
    "config = tf.ConfigProto(allow_soft_placement=True)\n",
    "config.gpu_options.allow_growth = True\n",
    "sess=tf.Session(config=config)\n",
    "summaries=tf.summary.merge_all()\n",
    "writer = tf.summary.FileWriter(\n",
    "            os.path.join('./tf_logs', time.strftime(\"%Y-%m-%d-%H-%M-%S\")))\n",
    "writer.add_graph(sess.graph)\n",
    "\n",
    "with tf.device(\"/gpu:0\"): #\"/cpu:0\" or \"/gpu:0\" \n",
    "    \n",
    "    sess.run(tf.global_variables_initializer())\n",
    "    model.train(sess, data, train_ops,writer)\n",
    "    \n",
    "    \n",
    "    #model.sample(sess, scores)  "
   ]
  },
  {
   "cell_type": "code",
   "execution_count": 139,
   "metadata": {
    "collapsed": false
   },
   "outputs": [
    {
     "ename": "ValueError",
     "evalue": "Cannot feed value of shape (1, 1) for Tensor 'PlaceHolders/Inputs:0', which has shape '(200, 20)'",
     "output_type": "error",
     "traceback": [
      "\u001b[1;31m---------------------------------------------------------------------------\u001b[0m",
      "\u001b[1;31mValueError\u001b[0m                                Traceback (most recent call last)",
      "\u001b[1;32m<ipython-input-139-9726438ded3b>\u001b[0m in \u001b[0;36m<module>\u001b[1;34m()\u001b[0m\n\u001b[0;32m      1\u001b[0m \u001b[1;33m\u001b[0m\u001b[0m\n\u001b[1;32m----> 2\u001b[1;33m \u001b[0mmodel\u001b[0m\u001b[1;33m.\u001b[0m\u001b[0msample\u001b[0m\u001b[1;33m(\u001b[0m\u001b[0msess\u001b[0m\u001b[1;33m,\u001b[0m \u001b[0mscores\u001b[0m\u001b[1;33m)\u001b[0m\u001b[1;33m\u001b[0m\u001b[0m\n\u001b[0m",
      "\u001b[1;32m<ipython-input-137-0c2994e3e408>\u001b[0m in \u001b[0;36msample\u001b[1;34m(self, sess, scores, seed, length, beam_width)\u001b[0m\n\u001b[0;32m    130\u001b[0m         \u001b[0mpred_str\u001b[0m\u001b[1;33m=\u001b[0m\u001b[1;33m[\u001b[0m\u001b[1;33m]\u001b[0m\u001b[1;33m\u001b[0m\u001b[0m\n\u001b[0;32m    131\u001b[0m         \u001b[1;32mfor\u001b[0m \u001b[0mi\u001b[0m \u001b[1;32min\u001b[0m \u001b[0mrange\u001b[0m\u001b[1;33m(\u001b[0m\u001b[0mlength\u001b[0m\u001b[1;33m)\u001b[0m\u001b[1;33m:\u001b[0m\u001b[1;33m\u001b[0m\u001b[0m\n\u001b[1;32m--> 132\u001b[1;33m             \u001b[0mp\u001b[0m\u001b[1;33m=\u001b[0m\u001b[0msess\u001b[0m\u001b[1;33m.\u001b[0m\u001b[0mrun\u001b[0m\u001b[1;33m(\u001b[0m\u001b[0mpd\u001b[0m\u001b[1;33m,\u001b[0m \u001b[0mfeed_dict\u001b[0m\u001b[1;33m=\u001b[0m\u001b[0mfeed_dict\u001b[0m\u001b[1;33m)\u001b[0m\u001b[1;33m\u001b[0m\u001b[0m\n\u001b[0m\u001b[0;32m    133\u001b[0m             \u001b[1;31m#rint(p.shape)\u001b[0m\u001b[1;33m\u001b[0m\u001b[1;33m\u001b[0m\u001b[0m\n\u001b[0;32m    134\u001b[0m             \u001b[0mix\u001b[0m \u001b[1;33m=\u001b[0m \u001b[0mnp\u001b[0m\u001b[1;33m.\u001b[0m\u001b[0mrandom\u001b[0m\u001b[1;33m.\u001b[0m\u001b[0mchoice\u001b[0m\u001b[1;33m(\u001b[0m\u001b[0mrange\u001b[0m\u001b[1;33m(\u001b[0m\u001b[0mself\u001b[0m\u001b[1;33m.\u001b[0m\u001b[0mhps\u001b[0m\u001b[1;33m.\u001b[0m\u001b[0mvocab_size\u001b[0m\u001b[1;33m)\u001b[0m\u001b[1;33m,\u001b[0m \u001b[0mp\u001b[0m\u001b[1;33m=\u001b[0m\u001b[0mp\u001b[0m\u001b[1;33m.\u001b[0m\u001b[0mravel\u001b[0m\u001b[1;33m(\u001b[0m\u001b[1;33m)\u001b[0m\u001b[1;33m)\u001b[0m\u001b[1;33m\u001b[0m\u001b[0m\n",
      "\u001b[1;32m/home/vaibhavs/ENVS/vqa/lib/python3.5/site-packages/tensorflow/python/client/session.py\u001b[0m in \u001b[0;36mrun\u001b[1;34m(self, fetches, feed_dict, options, run_metadata)\u001b[0m\n\u001b[0;32m    765\u001b[0m     \u001b[1;32mtry\u001b[0m\u001b[1;33m:\u001b[0m\u001b[1;33m\u001b[0m\u001b[0m\n\u001b[0;32m    766\u001b[0m       result = self._run(None, fetches, feed_dict, options_ptr,\n\u001b[1;32m--> 767\u001b[1;33m                          run_metadata_ptr)\n\u001b[0m\u001b[0;32m    768\u001b[0m       \u001b[1;32mif\u001b[0m \u001b[0mrun_metadata\u001b[0m\u001b[1;33m:\u001b[0m\u001b[1;33m\u001b[0m\u001b[0m\n\u001b[0;32m    769\u001b[0m         \u001b[0mproto_data\u001b[0m \u001b[1;33m=\u001b[0m \u001b[0mtf_session\u001b[0m\u001b[1;33m.\u001b[0m\u001b[0mTF_GetBuffer\u001b[0m\u001b[1;33m(\u001b[0m\u001b[0mrun_metadata_ptr\u001b[0m\u001b[1;33m)\u001b[0m\u001b[1;33m\u001b[0m\u001b[0m\n",
      "\u001b[1;32m/home/vaibhavs/ENVS/vqa/lib/python3.5/site-packages/tensorflow/python/client/session.py\u001b[0m in \u001b[0;36m_run\u001b[1;34m(self, handle, fetches, feed_dict, options, run_metadata)\u001b[0m\n\u001b[0;32m    942\u001b[0m                 \u001b[1;34m'Cannot feed value of shape %r for Tensor %r, '\u001b[0m\u001b[1;33m\u001b[0m\u001b[0m\n\u001b[0;32m    943\u001b[0m                 \u001b[1;34m'which has shape %r'\u001b[0m\u001b[1;33m\u001b[0m\u001b[0m\n\u001b[1;32m--> 944\u001b[1;33m                 % (np_val.shape, subfeed_t.name, str(subfeed_t.get_shape())))\n\u001b[0m\u001b[0;32m    945\u001b[0m           \u001b[1;32mif\u001b[0m \u001b[1;32mnot\u001b[0m \u001b[0mself\u001b[0m\u001b[1;33m.\u001b[0m\u001b[0mgraph\u001b[0m\u001b[1;33m.\u001b[0m\u001b[0mis_feedable\u001b[0m\u001b[1;33m(\u001b[0m\u001b[0msubfeed_t\u001b[0m\u001b[1;33m)\u001b[0m\u001b[1;33m:\u001b[0m\u001b[1;33m\u001b[0m\u001b[0m\n\u001b[0;32m    946\u001b[0m             \u001b[1;32mraise\u001b[0m \u001b[0mValueError\u001b[0m\u001b[1;33m(\u001b[0m\u001b[1;34m'Tensor %s may not be fed.'\u001b[0m \u001b[1;33m%\u001b[0m \u001b[0msubfeed_t\u001b[0m\u001b[1;33m)\u001b[0m\u001b[1;33m\u001b[0m\u001b[0m\n",
      "\u001b[1;31mValueError\u001b[0m: Cannot feed value of shape (1, 1) for Tensor 'PlaceHolders/Inputs:0', which has shape '(200, 20)'"
     ]
    }
   ],
   "source": [
    "\n",
    "model.sample(sess, scores)  "
   ]
  },
  {
   "cell_type": "code",
   "execution_count": null,
   "metadata": {
    "collapsed": true
   },
   "outputs": [],
   "source": []
  },
  {
   "cell_type": "code",
   "execution_count": null,
   "metadata": {
    "collapsed": true
   },
   "outputs": [],
   "source": []
  }
 ],
 "metadata": {
  "kernelspec": {
   "display_name": "Python 3",
   "language": "python",
   "name": "python3"
  },
  "language_info": {
   "codemirror_mode": {
    "name": "ipython",
    "version": 3
   },
   "file_extension": ".py",
   "mimetype": "text/x-python",
   "name": "python",
   "nbconvert_exporter": "python",
   "pygments_lexer": "ipython3",
   "version": "3.5.2"
  }
 },
 "nbformat": 4,
 "nbformat_minor": 1
}
